{
 "cells": [
  {
   "cell_type": "code",
   "execution_count": null,
   "id": "9e7e5b7a",
   "metadata": {},
   "outputs": [],
   "source": [
    "print(\"Kaffemenü\")\n",
    "\n",
    "\n",
    "print(\"1. Suppe und Salad\")\n",
    "print(\"2.Pasta mit Fleischklöschen\")\n",
    "print(\"3. Tagesmenü\")\n",
    "\n",
    "\n",
    "\n",
    "Kaffemenü = int(input(\"was  darf's denn sein?\"))\n",
    "\n"
   ]
  },
  {
   "cell_type": "code",
   "execution_count": null,
   "id": "4ab05076",
   "metadata": {},
   "outputs": [],
   "source": [
    "print(\"Kaffemenü\" , \"Wilkommen\")\n",
    "\n",
    "\n",
    "print(\"1. Suppe und Salad\")\n",
    "print(\" Pasta mit Fleischklöschen\")\n",
    "print(\" Tagesmenü\")"
   ]
  },
  {
   "cell_type": "code",
   "execution_count": null,
   "id": "724da6ae",
   "metadata": {},
   "outputs": [],
   "source": [
    "Kaffemenü = int(input(\"was  darf's denn sein?\"))\n",
    "\n",
    "if (Kaffemenü <0):\n",
    "    print(\"Tut mit leid, diese Auswahl ist ungültig. Bitte eine andere Auswahl treffen: \")\n",
    "elif (Kaffemenü>4)    "
   ]
  },
  {
   "cell_type": "code",
   "execution_count": null,
   "id": "53a7e0b0",
   "metadata": {},
   "outputs": [],
   "source": [
    "print(\"Kaffemenü\" , \"Wilkommen\")\n",
    "\n",
    "\n",
    "print(\"1. Suppe und Salad\")\n",
    "print(\"2.Pasta mit Fleischklöschen\")\n",
    "print(\"3. Tagesmenü\")\n",
    "\n",
    "while True:\n",
    "    Kaffemenü = int(input(\"Was wollen Sie bestellen?\"))\n",
    "    if int Kaffemenü==1:\n",
    "        print(\"Einmal Suppe und Salad kommt sofort\")\n",
    "    elif int Kaffemenü==2:\n",
    "        print(\"Einmal Pasta mit Fleischklöschen kommt sofort\")\n",
    "    elif int Kaffemenü==3:\n",
    "        print(\"Einmal Tagesmenü kommt sofort\")\n",
    "    else:\n",
    "        print(\"Tut mit leid, diese Auswahl ist ungültig.\")\n",
    "        print(\"Bitte eine andere Auswahl treffen:\")\n"
   ]
  }
 ],
 "metadata": {
  "kernelspec": {
   "display_name": "Python 3 (ipykernel)",
   "language": "python",
   "name": "python3"
  },
  "language_info": {
   "codemirror_mode": {
    "name": "ipython",
    "version": 3
   },
   "file_extension": ".py",
   "mimetype": "text/x-python",
   "name": "python",
   "nbconvert_exporter": "python",
   "pygments_lexer": "ipython3",
   "version": "3.9.13"
  }
 },
 "nbformat": 4,
 "nbformat_minor": 5
}
