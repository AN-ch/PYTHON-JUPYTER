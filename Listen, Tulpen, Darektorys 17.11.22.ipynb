{
 "cells": [
  {
   "cell_type": "code",
   "execution_count": 1,
   "id": "2ace3762",
   "metadata": {},
   "outputs": [
    {
     "name": "stdout",
     "output_type": "stream",
     "text": [
      "Gesamte Liste:\n",
      "[3, 8, 25.5, 10, 100, 5000]\n",
      "Ein Element einer Liste:\n",
      "10\n",
      "einen Teil der Liste - Slice:\n",
      "[3, 8]\n"
     ]
    }
   ],
   "source": [
    "z = [3,8,25.5,10,100,5000]\n",
    "print(\"Gesamte Liste:\")\n",
    "print(z)\n",
    "print(\"Ein Element einer Liste:\")\n",
    "print(z[3])\n",
    "print(\"einen Teil der Liste - Slice:\")\n",
    "print(z[0:2])"
   ]
  },
  {
   "cell_type": "code",
   "execution_count": 2,
   "id": "908b4354",
   "metadata": {},
   "outputs": [
    {
     "name": "stdout",
     "output_type": "stream",
     "text": [
      "['Wilhelmshaven', 'Bremen', 'Oldenburg', 'Aurich', 'Delmenhorst']\n",
      "Anzahl der Listenelemente:  5\n"
     ]
    }
   ],
   "source": [
    "s = [\"Wilhelmshaven\", \"Bremen\", \"Oldenburg\", \"Aurich\", \"Delmenhorst\"]\n",
    "print(s)\n",
    "print(\"Anzahl der Listenelemente: \", len(s))"
   ]
  },
  {
   "cell_type": "code",
   "execution_count": 3,
   "id": "c8cebd47",
   "metadata": {},
   "outputs": [
    {
     "name": "stdout",
     "output_type": "stream",
     "text": [
      "[[3, 8, 25.5, 10, 100, 5000], ['Wilhelmshaven', 'Bremen', 'Oldenburg', 'Aurich', 'Delmenhorst'], ['Äpfel', 'Birnen', 'Pflaumen']]\n",
      "Anzahl der Elemente der Liste:  3\n"
     ]
    }
   ],
   "source": [
    "l= [[3,8,25.5,10,100,5000], [\"Wilhelmshaven\", \"Bremen\", \"Oldenburg\", \"Aurich\", \"Delmenhorst\"], [\"Äpfel\", \"Birnen\", \"Pflaumen\"]]\n",
    "print(l)\n",
    "print(\"Anzahl der Elemente der Liste: \", len(l))"
   ]
  },
  {
   "cell_type": "code",
   "execution_count": 4,
   "id": "a0d0e8c1",
   "metadata": {},
   "outputs": [
    {
     "name": "stdout",
     "output_type": "stream",
     "text": [
      "Städte:  ['Wilhelmshaven', 'Bremen', 'Oldenburg', 'Aurich', 'Delmenhorst']\n",
      "Obst:  ['Äpfel', 'Birnen', 'Pflaumen']\n",
      "Stobst: ['Wilhelmshaven', 'Bremen', 'Oldenburg', 'Aurich', 'Delmenhorst', 'Äpfel', 'Birnen', 'Pflaumen']\n",
      "Doppeltgemoppelt: ['Wilhelmshaven', 'Bremen', 'Oldenburg', 'Aurich', 'Delmenhorst', 'Äpfel', 'Birnen', 'Pflaumen', 'Wilhelmshaven', 'Bremen', 'Oldenburg', 'Aurich', 'Delmenhorst', 'Äpfel', 'Birnen', 'Pflaumen']\n"
     ]
    }
   ],
   "source": [
    "o = [\"Äpfel\", \"Birnen\", \"Pflaumen\"]\n",
    "s = [\"Wilhelmshaven\", \"Bremen\", \"Oldenburg\", \"Aurich\", \"Delmenhorst\"]\n",
    "so = s + o\n",
    "print(\"Städte: \", s)\n",
    "print(\"Obst: \", o)\n",
    "print(\"Stobst:\", so)\n",
    "\n",
    "print(\"Doppeltgemoppelt:\", so * 2)"
   ]
  },
  {
   "cell_type": "code",
   "execution_count": 5,
   "id": "9db30d52",
   "metadata": {},
   "outputs": [
    {
     "name": "stdout",
     "output_type": "stream",
     "text": [
      "Liste alt:\n",
      "['Wilhelmshaven', 'Bremen', 'Oldenburg', 'Aurich', 'Delmenhorst']\n",
      "\n",
      "Liste neu:\n",
      "['Wilhelmshaven', 'Emden', 'Oldenburg', 'Aurich', 'Delmenhorst']\n"
     ]
    }
   ],
   "source": [
    "s = [\"Wilhelmshaven\", \"Bremen\", \"Oldenburg\", \"Aurich\", \"Delmenhorst\"]\n",
    "print(\"Liste alt:\")\n",
    "print(s)\n",
    "print()\n",
    "s[1]=\"Emden\"\n",
    "print(\"Liste neu:\")\n",
    "print(s)"
   ]
  },
  {
   "cell_type": "code",
   "execution_count": 6,
   "id": "1e963034",
   "metadata": {},
   "outputs": [
    {
     "name": "stdout",
     "output_type": "stream",
     "text": [
      "Liste alt:\n",
      "['Wilhelmshaven', 'Bremen', 'Oldenburg', 'Aurich', 'Delmenhorst']\n",
      "\n",
      "Liste neu:\n",
      "['Wilhelmshaven', 'Emden', 'Jemgum', 'Bingum', 'Aurich', 'Delmenhorst']\n"
     ]
    }
   ],
   "source": [
    "s = [\"Wilhelmshaven\", \"Bremen\", \"Oldenburg\", \"Aurich\", \"Delmenhorst\"]\n",
    "print(\"Liste alt:\")\n",
    "print(s)\n",
    "print()\n",
    "s[1:3]=[\"Emden\", \"Jemgum\", \"Bingum\"]\n",
    "print(\"Liste neu:\")\n",
    "print(s)"
   ]
  },
  {
   "cell_type": "code",
   "execution_count": 7,
   "id": "321f8dbd",
   "metadata": {},
   "outputs": [
    {
     "name": "stdout",
     "output_type": "stream",
     "text": [
      "Liste alt:\n",
      "['Wilhelmshaven', 'Bremen', 'Oldenburg', 'Aurich', 'Delmenhorst']\n",
      "\n",
      "Liste neu:\n",
      "['Wilhelmshaven', 'Oldenburg', 'Aurich', 'Delmenhorst']\n"
     ]
    }
   ],
   "source": [
    "s = [\"Wilhelmshaven\", \"Bremen\", \"Oldenburg\", \"Aurich\", \"Delmenhorst\"]\n",
    "print(\"Liste alt:\")\n",
    "print(s)\n",
    "print()\n",
    "del s[1]\n",
    "print(\"Liste neu:\")\n",
    "print(s)"
   ]
  },
  {
   "cell_type": "code",
   "execution_count": 8,
   "id": "8c90bbc4",
   "metadata": {},
   "outputs": [
    {
     "name": "stdout",
     "output_type": "stream",
     "text": [
      "Liste alt:\n",
      "['Wilhelmshaven', 'Bremen', 'Oldenburg', 'Aurich', 'Delmenhorst']\n",
      "\n",
      "Liste neu:\n",
      "['Wilhelmshaven', 'Bremen', 'Oldenburg', 'Aurich', 'Delmenhorst', 'Hamburg']\n"
     ]
    }
   ],
   "source": [
    "s = [\"Wilhelmshaven\", \"Bremen\", \"Oldenburg\", \"Aurich\", \"Delmenhorst\"]\n",
    "print(\"Liste alt:\")\n",
    "print(s)\n",
    "print()\n",
    "s.append(\"Hamburg\")\n",
    "print(\"Liste neu:\")\n",
    "print(s)"
   ]
  },
  {
   "cell_type": "code",
   "execution_count": 9,
   "id": "d800508c",
   "metadata": {},
   "outputs": [
    {
     "name": "stdout",
     "output_type": "stream",
     "text": [
      "Liste alt:\n",
      "['Wilhelmshaven', 'Bremen', 'Oldenburg', 'Aurich', 'Delmenhorst']\n",
      "\n",
      "Liste sortiert:\n",
      "['Aurich', 'Bremen', 'Delmenhorst', 'Oldenburg', 'Wilhelmshaven']\n"
     ]
    }
   ],
   "source": [
    "s = [\"Wilhelmshaven\", \"Bremen\", \"Oldenburg\", \"Aurich\", \"Delmenhorst\"]\n",
    "print(\"Liste alt:\")\n",
    "print(s)\n",
    "print()\n",
    "s.sort()\n",
    "print(\"Liste sortiert:\")\n",
    "print(s)"
   ]
  },
  {
   "cell_type": "code",
   "execution_count": 10,
   "id": "66e21006",
   "metadata": {},
   "outputs": [
    {
     "name": "stdout",
     "output_type": "stream",
     "text": [
      "Liste alt:\n",
      "['Wilhelmshaven', 'Bremen', 'Oldenburg', 'Aurich', 'Delmenhorst']\n",
      "\n",
      "Liste Umgedreht:\n",
      "['Delmenhorst', 'Aurich', 'Oldenburg', 'Bremen', 'Wilhelmshaven']\n"
     ]
    }
   ],
   "source": [
    "s = [\"Wilhelmshaven\", \"Bremen\", \"Oldenburg\", \"Aurich\", \"Delmenhorst\"]\n",
    "print(\"Liste alt:\")\n",
    "print(s)\n",
    "print()\n",
    "s.reverse()\n",
    "print(\"Liste Umgedreht:\")\n",
    "print(s)"
   ]
  },
  {
   "cell_type": "code",
   "execution_count": 11,
   "id": "98d60eb8",
   "metadata": {},
   "outputs": [
    {
     "name": "stdout",
     "output_type": "stream",
     "text": [
      "Wilhelmshaven\n",
      "Bremen\n",
      "Oldenburg\n",
      "Aurich\n",
      "Delmenhorst\n"
     ]
    }
   ],
   "source": [
    "s = [\"Wilhelmshaven\", \"Bremen\", \"Oldenburg\", \"Aurich\", \"Delmenhorst\"]\n",
    "for i in s:\n",
    "    print(i)"
   ]
  },
  {
   "cell_type": "code",
   "execution_count": 18,
   "id": "2787d111",
   "metadata": {},
   "outputs": [],
   "source": [
    "def addition(zahl1,zahl2, zahl3 ):\n",
    "    erg = zahl1 + zahl2 + zahl3\n",
    "    print(\"Das Ergebnis von:\", zahl1, \"+\", zahl2,\"+\", zahl3, \"ist:\", erg)"
   ]
  },
  {
   "cell_type": "code",
   "execution_count": 17,
   "id": "1ea6c122",
   "metadata": {},
   "outputs": [],
   "source": [
    "def addition(zahl1, zahl2,zahl3 ):\n",
    "    erg = zahl1 + zahl2 + zahl3\n",
    "    print(\"Das ergebnis von:\", zahl1, \"+\", zahl2,\"+\", zahl3, \"ist:\", erg )"
   ]
  },
  {
   "cell_type": "code",
   "execution_count": null,
   "id": "d8b2010b",
   "metadata": {},
   "outputs": [],
   "source": []
  }
 ],
 "metadata": {
  "kernelspec": {
   "display_name": "Python 3 (ipykernel)",
   "language": "python",
   "name": "python3"
  },
  "language_info": {
   "codemirror_mode": {
    "name": "ipython",
    "version": 3
   },
   "file_extension": ".py",
   "mimetype": "text/x-python",
   "name": "python",
   "nbconvert_exporter": "python",
   "pygments_lexer": "ipython3",
   "version": "3.9.13"
  }
 },
 "nbformat": 4,
 "nbformat_minor": 5
}
