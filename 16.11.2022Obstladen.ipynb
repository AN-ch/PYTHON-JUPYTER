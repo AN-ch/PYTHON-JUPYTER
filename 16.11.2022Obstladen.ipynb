{
 "cells": [
  {
   "cell_type": "code",
   "execution_count": 1,
   "id": "8fb15e6d",
   "metadata": {},
   "outputs": [
    {
     "name": "stdout",
     "output_type": "stream",
     "text": [
      "Herzlich wilkommen beim unserem Obstladen\n"
     ]
    }
   ],
   "source": [
    "print(\"Herzlich wilkommen beim unserem Obstladen\")"
   ]
  },
  {
   "cell_type": "code",
   "execution_count": 16,
   "id": "b7d0a671",
   "metadata": {},
   "outputs": [
    {
     "name": "stdout",
     "output_type": "stream",
     "text": [
      "Herzlich wilkommen beim unserem Obstladen ! \n",
      "Kasse Obstladen\n",
      "Wieviel Äpfel hätten Sie gerne:2\n",
      "2 sind jetzt im Warenkorb\n",
      "Wieviel Birnen hätten Sie gerne:1\n",
      "1 sind jetzt im Warenkorb\n",
      "Wieviel Bananen hätten Sie gerne:2\n",
      "2 sind jetzt im Warenkorb\n",
      "Ihre Gesamtbetrag ist:          EUR 3.90\n",
      "Mit wie viel Geld werden Sie bezahlen:2\n",
      "Leider zu wenig Geld, bitte mehr Geld reinzufügen \n",
      "Sie bekommen -1.90 EUR Rückgeld\n",
      ":):):):):):):):):):):):)\n",
      "Vielen Dank für Ihre Einkauf ! \n"
     ]
    }
   ],
   "source": [
    "print(\"Herzlich wilkommen beim unserem Obstladen ! \") \n",
    "\n",
    "apfel_im_Lager = 20\n",
    "birnen_im_Lager = 10\n",
    "bananen_im_Lager = 5\n",
    "\n",
    "bestell_apfel = 0\n",
    "bestell_birnen = 0\n",
    "bestell_bananen = 0\n",
    "\n",
    "preis_apfel = 1.0\n",
    "preis_birnen = 0.50\n",
    "preis_bananen = 0.70\n",
    "\n",
    "geld = 0.0\n",
    "summe = 0.0\n",
    "ruckgeld = 0.0\n",
    "\n",
    "print(\"Kasse Obstladen\")\n",
    "\n",
    "bestell_apfel = int(input( \"Wieviel Äpfel hätten Sie gerne:\"))\n",
    "if bestell_apfel<= apfel_im_Lager:\n",
    "    print(bestell_apfel, \"sind jetzt im Warenkorb\")\n",
    "else:\n",
    "    print(\"Tut mir leid, wir haben nicht mehr genug im Lager\")\n",
    "\n",
    "\n",
    "bestell_birnen = int(input( \"Wieviel Birnen hätten Sie gerne:\"))\n",
    "if bestell_birnen<= birnen_im_Lager:\n",
    "    print(bestell_birnen, \"sind jetzt im Warenkorb\")\n",
    "else:\n",
    "    print(\"Tut mir leid, wir haben nicht mehr genug im Lager\")\n",
    "\n",
    "\n",
    "\n",
    "bestell_bananen = int(input( \"Wieviel Bananen hätten Sie gerne:\"))\n",
    "\n",
    "if bestell_bananen<= bananen_im_Lager:\n",
    "    print(bestell_bananen, \"sind jetzt im Warenkorb\")\n",
    "\n",
    "else:\n",
    "    print(\"Tut mir leid, wir haben nicht mehr genug im Lager\")\n",
    "    \n",
    "summe = (bestell_apfel * preis_apfel) + (bestell_birnen * preis_birnen) + (bestell_bananen * preis_bananen)\n",
    "\n",
    "print(\"Ihre Gesamtbetrag ist:          EUR\", \"%.2f\" % summe)\n",
    "\n",
    "\n",
    "geld = float (input(\"Mit wie viel Geld werden Sie bezahlen:\"))\n",
    "\n",
    "ruckgeld = geld - summe\n",
    "\n",
    "if geld <= summe:\n",
    "    print(\"Leider zu wenig Geld, bitte mehr Geld reinzufügen ! \")\n",
    "    \n",
    "\n",
    "print (\"Sie bekommen\", \"%.2f\" % ruckgeld, \"EUR Rückgeld\")\n",
    "print(\":):):):):):):):):):):):)\")\n",
    "print(\"Vielen Dank für Ihre Einkauf ! \")\n",
    "\n",
    "\n",
    "\n",
    "\n"
   ]
  },
  {
   "cell_type": "code",
   "execution_count": null,
   "id": "ce498776",
   "metadata": {},
   "outputs": [],
   "source": []
  }
 ],
 "metadata": {
  "kernelspec": {
   "display_name": "Python 3 (ipykernel)",
   "language": "python",
   "name": "python3"
  },
  "language_info": {
   "codemirror_mode": {
    "name": "ipython",
    "version": 3
   },
   "file_extension": ".py",
   "mimetype": "text/x-python",
   "name": "python",
   "nbconvert_exporter": "python",
   "pygments_lexer": "ipython3",
   "version": "3.9.13"
  }
 },
 "nbformat": 4,
 "nbformat_minor": 5
}
